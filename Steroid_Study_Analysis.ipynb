{
 "cells": [
  {
   "cell_type": "code",
   "execution_count": 12,
   "id": "35c4aeae-084b-4933-b95a-3a062f316525",
   "metadata": {},
   "outputs": [],
   "source": [
    "import pandas as pd\n",
    "import numpy as np \n",
    "import seaborn as sns\n",
    "import matplotlib.pyplot as plt\n",
    "from scipy import stats\n",
    "from scipy.stats import linregress\n",
    "from scipy.stats import pearsonr\n",
    "from scipy.stats import f_oneway, kruskal\n",
    "from scipy.stats import shapiro, ttest_ind, mannwhitneyu\n",
    "from statsmodels.distributions.empirical_distribution import ECDF"
   ]
  },
  {
   "cell_type": "markdown",
   "id": "dc4bc033-fefd-4ca4-b689-b19852cc4fac",
   "metadata": {},
   "source": [
    "## Load in Data"
   ]
  },
  {
   "cell_type": "code",
   "execution_count": 13,
   "id": "6d14d4cf-c023-45fd-ad2c-499dd86277b2",
   "metadata": {},
   "outputs": [],
   "source": [
    "raw_data = pd.read_excel('steriod_study_data.xlsx')"
   ]
  },
  {
   "cell_type": "markdown",
   "id": "e5d22a1b-e0a6-4bd3-9d53-a2dd9faf994c",
   "metadata": {},
   "source": [
    "## Clean Data"
   ]
  },
  {
   "cell_type": "code",
   "execution_count": 14,
   "id": "1381e8a4-76c9-46dd-8eae-804c705c2283",
   "metadata": {},
   "outputs": [],
   "source": [
    "data = raw_data.iloc[0:22,:14]"
   ]
  },
  {
   "cell_type": "code",
   "execution_count": 15,
   "id": "5098f20c-d777-4325-8c7a-c3dfa904798f",
   "metadata": {},
   "outputs": [
    {
     "data": {
      "text/html": [
       "<div>\n",
       "<style scoped>\n",
       "    .dataframe tbody tr th:only-of-type {\n",
       "        vertical-align: middle;\n",
       "    }\n",
       "\n",
       "    .dataframe tbody tr th {\n",
       "        vertical-align: top;\n",
       "    }\n",
       "\n",
       "    .dataframe thead th {\n",
       "        text-align: right;\n",
       "    }\n",
       "</style>\n",
       "<table border=\"1\" class=\"dataframe\">\n",
       "  <thead>\n",
       "    <tr style=\"text-align: right;\">\n",
       "      <th></th>\n",
       "      <th>ID</th>\n",
       "      <th>group</th>\n",
       "      <th>gdf15_before</th>\n",
       "      <th>gdf15_after</th>\n",
       "      <th>help_before</th>\n",
       "      <th>help_after</th>\n",
       "      <th>puqe_before</th>\n",
       "      <th>puqe_after</th>\n",
       "      <th>gdf15_change</th>\n",
       "      <th>help_change</th>\n",
       "      <th>puqe_change</th>\n",
       "      <th>help_reduction</th>\n",
       "      <th>puqe_reduction</th>\n",
       "      <th>gdf15_percent_change</th>\n",
       "    </tr>\n",
       "  </thead>\n",
       "  <tbody>\n",
       "    <tr>\n",
       "      <th>0</th>\n",
       "      <td>K37</td>\n",
       "      <td>Steroid</td>\n",
       "      <td>8.625892</td>\n",
       "      <td>6.608038</td>\n",
       "      <td>38</td>\n",
       "      <td>10</td>\n",
       "      <td>10</td>\n",
       "      <td>3</td>\n",
       "      <td>-2.017855</td>\n",
       "      <td>-28</td>\n",
       "      <td>-7.0</td>\n",
       "      <td>28</td>\n",
       "      <td>7</td>\n",
       "      <td>-23.392997</td>\n",
       "    </tr>\n",
       "    <tr>\n",
       "      <th>1</th>\n",
       "      <td>L14</td>\n",
       "      <td>Steroid</td>\n",
       "      <td>22.974399</td>\n",
       "      <td>24.424706</td>\n",
       "      <td>30</td>\n",
       "      <td>29</td>\n",
       "      <td>11</td>\n",
       "      <td>9</td>\n",
       "      <td>1.450307</td>\n",
       "      <td>-1</td>\n",
       "      <td>-2.0</td>\n",
       "      <td>1</td>\n",
       "      <td>2</td>\n",
       "      <td>6.312710</td>\n",
       "    </tr>\n",
       "    <tr>\n",
       "      <th>2</th>\n",
       "      <td>L23</td>\n",
       "      <td>Steroid</td>\n",
       "      <td>23.262108</td>\n",
       "      <td>21.79778</td>\n",
       "      <td>40</td>\n",
       "      <td>21</td>\n",
       "      <td>15</td>\n",
       "      <td>10</td>\n",
       "      <td>-1.464328</td>\n",
       "      <td>-19</td>\n",
       "      <td>-5.0</td>\n",
       "      <td>19</td>\n",
       "      <td>5</td>\n",
       "      <td>-6.294906</td>\n",
       "    </tr>\n",
       "    <tr>\n",
       "      <th>3</th>\n",
       "      <td>L37</td>\n",
       "      <td>Steroid</td>\n",
       "      <td>6.889565</td>\n",
       "      <td>12.498578</td>\n",
       "      <td>30</td>\n",
       "      <td>17</td>\n",
       "      <td>12</td>\n",
       "      <td>9</td>\n",
       "      <td>5.609013</td>\n",
       "      <td>-13</td>\n",
       "      <td>-3.0</td>\n",
       "      <td>13</td>\n",
       "      <td>3</td>\n",
       "      <td>81.413157</td>\n",
       "    </tr>\n",
       "    <tr>\n",
       "      <th>4</th>\n",
       "      <td>M35</td>\n",
       "      <td>Steroid</td>\n",
       "      <td>14.082705</td>\n",
       "      <td>10.614804</td>\n",
       "      <td>37</td>\n",
       "      <td>31</td>\n",
       "      <td>14</td>\n",
       "      <td>12</td>\n",
       "      <td>-3.467901</td>\n",
       "      <td>-6</td>\n",
       "      <td>-2.0</td>\n",
       "      <td>6</td>\n",
       "      <td>2</td>\n",
       "      <td>-24.625249</td>\n",
       "    </tr>\n",
       "    <tr>\n",
       "      <th>5</th>\n",
       "      <td>N2</td>\n",
       "      <td>Steroid</td>\n",
       "      <td>8.569502</td>\n",
       "      <td>6.617576</td>\n",
       "      <td>55</td>\n",
       "      <td>21</td>\n",
       "      <td>15</td>\n",
       "      <td>7</td>\n",
       "      <td>-1.951926</td>\n",
       "      <td>-34</td>\n",
       "      <td>-8.0</td>\n",
       "      <td>34</td>\n",
       "      <td>8</td>\n",
       "      <td>-22.777590</td>\n",
       "    </tr>\n",
       "    <tr>\n",
       "      <th>6</th>\n",
       "      <td>P5</td>\n",
       "      <td>Steroid</td>\n",
       "      <td>20.255376</td>\n",
       "      <td>16.678638</td>\n",
       "      <td>42</td>\n",
       "      <td>14</td>\n",
       "      <td>8</td>\n",
       "      <td>4</td>\n",
       "      <td>-3.576739</td>\n",
       "      <td>-28</td>\n",
       "      <td>-4.0</td>\n",
       "      <td>28</td>\n",
       "      <td>4</td>\n",
       "      <td>-17.658219</td>\n",
       "    </tr>\n",
       "    <tr>\n",
       "      <th>7</th>\n",
       "      <td>H10</td>\n",
       "      <td>Steroid</td>\n",
       "      <td>19.398124</td>\n",
       "      <td>16.526182</td>\n",
       "      <td>43</td>\n",
       "      <td>11</td>\n",
       "      <td>14</td>\n",
       "      <td>4</td>\n",
       "      <td>-2.871942</td>\n",
       "      <td>-32</td>\n",
       "      <td>-10.0</td>\n",
       "      <td>32</td>\n",
       "      <td>10</td>\n",
       "      <td>-14.805256</td>\n",
       "    </tr>\n",
       "    <tr>\n",
       "      <th>8</th>\n",
       "      <td>H1</td>\n",
       "      <td>Steroid</td>\n",
       "      <td>12.664902</td>\n",
       "      <td>10.569372</td>\n",
       "      <td>28</td>\n",
       "      <td>9</td>\n",
       "      <td>11</td>\n",
       "      <td>4</td>\n",
       "      <td>-2.09553</td>\n",
       "      <td>-19</td>\n",
       "      <td>-7.0</td>\n",
       "      <td>19</td>\n",
       "      <td>7</td>\n",
       "      <td>-16.545963</td>\n",
       "    </tr>\n",
       "    <tr>\n",
       "      <th>9</th>\n",
       "      <td>H3</td>\n",
       "      <td>Steroid</td>\n",
       "      <td>11.817524</td>\n",
       "      <td>10.433036</td>\n",
       "      <td>34</td>\n",
       "      <td>12</td>\n",
       "      <td>12</td>\n",
       "      <td>6</td>\n",
       "      <td>-1.384488</td>\n",
       "      <td>-22</td>\n",
       "      <td>-6.0</td>\n",
       "      <td>22</td>\n",
       "      <td>6</td>\n",
       "      <td>-11.715551</td>\n",
       "    </tr>\n",
       "    <tr>\n",
       "      <th>10</th>\n",
       "      <td>H8</td>\n",
       "      <td>Steroid</td>\n",
       "      <td>9.35986</td>\n",
       "      <td>8.879181</td>\n",
       "      <td>26</td>\n",
       "      <td>19</td>\n",
       "      <td>7</td>\n",
       "      <td>5</td>\n",
       "      <td>-0.480679</td>\n",
       "      <td>-7</td>\n",
       "      <td>-2.0</td>\n",
       "      <td>7</td>\n",
       "      <td>2</td>\n",
       "      <td>-5.135536</td>\n",
       "    </tr>\n",
       "    <tr>\n",
       "      <th>11</th>\n",
       "      <td>J13</td>\n",
       "      <td>Control</td>\n",
       "      <td>12.278511</td>\n",
       "      <td>11.348929</td>\n",
       "      <td>41</td>\n",
       "      <td>30</td>\n",
       "      <td>11</td>\n",
       "      <td>10</td>\n",
       "      <td>-0.929582</td>\n",
       "      <td>-11</td>\n",
       "      <td>-1.0</td>\n",
       "      <td>11</td>\n",
       "      <td>1</td>\n",
       "      <td>-7.570805</td>\n",
       "    </tr>\n",
       "    <tr>\n",
       "      <th>12</th>\n",
       "      <td>J20</td>\n",
       "      <td>Control</td>\n",
       "      <td>11.662732</td>\n",
       "      <td>12.144947</td>\n",
       "      <td>26</td>\n",
       "      <td>16</td>\n",
       "      <td>9</td>\n",
       "      <td>6</td>\n",
       "      <td>0.482215</td>\n",
       "      <td>-10</td>\n",
       "      <td>-3.0</td>\n",
       "      <td>10</td>\n",
       "      <td>3</td>\n",
       "      <td>4.134665</td>\n",
       "    </tr>\n",
       "    <tr>\n",
       "      <th>13</th>\n",
       "      <td>J4</td>\n",
       "      <td>Control</td>\n",
       "      <td>14.358465</td>\n",
       "      <td>14.607755</td>\n",
       "      <td>32</td>\n",
       "      <td>17</td>\n",
       "      <td>15</td>\n",
       "      <td>6</td>\n",
       "      <td>0.24929</td>\n",
       "      <td>-15</td>\n",
       "      <td>-9.0</td>\n",
       "      <td>15</td>\n",
       "      <td>9</td>\n",
       "      <td>1.736185</td>\n",
       "    </tr>\n",
       "    <tr>\n",
       "      <th>14</th>\n",
       "      <td>K18</td>\n",
       "      <td>Control</td>\n",
       "      <td>18.122193</td>\n",
       "      <td>10.889423</td>\n",
       "      <td>42</td>\n",
       "      <td>28</td>\n",
       "      <td>15</td>\n",
       "      <td>9</td>\n",
       "      <td>-7.23277</td>\n",
       "      <td>-14</td>\n",
       "      <td>-6.0</td>\n",
       "      <td>14</td>\n",
       "      <td>6</td>\n",
       "      <td>-39.911119</td>\n",
       "    </tr>\n",
       "    <tr>\n",
       "      <th>15</th>\n",
       "      <td>K21</td>\n",
       "      <td>Control</td>\n",
       "      <td>17.742804</td>\n",
       "      <td>13.037719</td>\n",
       "      <td>27</td>\n",
       "      <td>15</td>\n",
       "      <td>10</td>\n",
       "      <td>7</td>\n",
       "      <td>-4.705086</td>\n",
       "      <td>-12</td>\n",
       "      <td>-3.0</td>\n",
       "      <td>12</td>\n",
       "      <td>3</td>\n",
       "      <td>-26.518274</td>\n",
       "    </tr>\n",
       "    <tr>\n",
       "      <th>16</th>\n",
       "      <td>K35</td>\n",
       "      <td>Control</td>\n",
       "      <td>35.81071</td>\n",
       "      <td>32.79788</td>\n",
       "      <td>30</td>\n",
       "      <td>9</td>\n",
       "      <td>11</td>\n",
       "      <td>4</td>\n",
       "      <td>-3.01283</td>\n",
       "      <td>-21</td>\n",
       "      <td>-7.0</td>\n",
       "      <td>21</td>\n",
       "      <td>7</td>\n",
       "      <td>-8.413209</td>\n",
       "    </tr>\n",
       "    <tr>\n",
       "      <th>17</th>\n",
       "      <td>K4</td>\n",
       "      <td>Control</td>\n",
       "      <td>7.029473</td>\n",
       "      <td>20.264799</td>\n",
       "      <td>32</td>\n",
       "      <td>14</td>\n",
       "      <td>10</td>\n",
       "      <td>7</td>\n",
       "      <td>13.235325</td>\n",
       "      <td>-18</td>\n",
       "      <td>-3.0</td>\n",
       "      <td>18</td>\n",
       "      <td>3</td>\n",
       "      <td>188.283317</td>\n",
       "    </tr>\n",
       "    <tr>\n",
       "      <th>18</th>\n",
       "      <td>H29</td>\n",
       "      <td>Control</td>\n",
       "      <td>10.342487</td>\n",
       "      <td>13.192665</td>\n",
       "      <td>41</td>\n",
       "      <td>37</td>\n",
       "      <td>12</td>\n",
       "      <td>15</td>\n",
       "      <td>2.850178</td>\n",
       "      <td>-4</td>\n",
       "      <td>3.0</td>\n",
       "      <td>4</td>\n",
       "      <td>-3</td>\n",
       "      <td>27.557956</td>\n",
       "    </tr>\n",
       "    <tr>\n",
       "      <th>19</th>\n",
       "      <td>H5</td>\n",
       "      <td>Control</td>\n",
       "      <td>23.404899</td>\n",
       "      <td>33.913991</td>\n",
       "      <td>30</td>\n",
       "      <td>30</td>\n",
       "      <td>11</td>\n",
       "      <td>11</td>\n",
       "      <td>10.509092</td>\n",
       "      <td>0</td>\n",
       "      <td>0.0</td>\n",
       "      <td>0</td>\n",
       "      <td>0</td>\n",
       "      <td>44.901249</td>\n",
       "    </tr>\n",
       "    <tr>\n",
       "      <th>20</th>\n",
       "      <td>H36</td>\n",
       "      <td>Control</td>\n",
       "      <td>21.603316</td>\n",
       "      <td>24.471223</td>\n",
       "      <td>35</td>\n",
       "      <td>31</td>\n",
       "      <td>12</td>\n",
       "      <td>11</td>\n",
       "      <td>2.867907</td>\n",
       "      <td>-4</td>\n",
       "      <td>-1.0</td>\n",
       "      <td>4</td>\n",
       "      <td>1</td>\n",
       "      <td>13.275309</td>\n",
       "    </tr>\n",
       "    <tr>\n",
       "      <th>21</th>\n",
       "      <td>I9</td>\n",
       "      <td>Control</td>\n",
       "      <td>29.810129</td>\n",
       "      <td>31.04174</td>\n",
       "      <td>26</td>\n",
       "      <td>13</td>\n",
       "      <td>8</td>\n",
       "      <td>5</td>\n",
       "      <td>1.231611</td>\n",
       "      <td>-13</td>\n",
       "      <td>-3.0</td>\n",
       "      <td>13</td>\n",
       "      <td>3</td>\n",
       "      <td>4.131519</td>\n",
       "    </tr>\n",
       "  </tbody>\n",
       "</table>\n",
       "</div>"
      ],
      "text/plain": [
       "     ID    group gdf15_before gdf15_after help_before help_after puqe_before  \\\n",
       "0   K37  Steroid     8.625892    6.608038          38         10          10   \n",
       "1   L14  Steroid    22.974399   24.424706          30         29          11   \n",
       "2   L23  Steroid    23.262108    21.79778          40         21          15   \n",
       "3   L37  Steroid     6.889565   12.498578          30         17          12   \n",
       "4   M35  Steroid    14.082705   10.614804          37         31          14   \n",
       "5    N2  Steroid     8.569502    6.617576          55         21          15   \n",
       "6    P5  Steroid    20.255376   16.678638          42         14           8   \n",
       "7   H10  Steroid    19.398124   16.526182          43         11          14   \n",
       "8    H1  Steroid    12.664902   10.569372          28          9          11   \n",
       "9    H3  Steroid    11.817524   10.433036          34         12          12   \n",
       "10   H8  Steroid      9.35986    8.879181          26         19           7   \n",
       "11  J13  Control    12.278511   11.348929          41         30          11   \n",
       "12  J20  Control    11.662732   12.144947          26         16           9   \n",
       "13   J4  Control    14.358465   14.607755          32         17          15   \n",
       "14  K18  Control    18.122193   10.889423          42         28          15   \n",
       "15  K21  Control    17.742804   13.037719          27         15          10   \n",
       "16  K35  Control     35.81071    32.79788          30          9          11   \n",
       "17   K4  Control     7.029473   20.264799          32         14          10   \n",
       "18  H29  Control    10.342487   13.192665          41         37          12   \n",
       "19   H5  Control    23.404899   33.913991          30         30          11   \n",
       "20  H36  Control    21.603316   24.471223          35         31          12   \n",
       "21   I9  Control    29.810129    31.04174          26         13           8   \n",
       "\n",
       "   puqe_after gdf15_change help_change  puqe_change help_reduction  \\\n",
       "0           3    -2.017855         -28         -7.0             28   \n",
       "1           9     1.450307          -1         -2.0              1   \n",
       "2          10    -1.464328         -19         -5.0             19   \n",
       "3           9     5.609013         -13         -3.0             13   \n",
       "4          12    -3.467901          -6         -2.0              6   \n",
       "5           7    -1.951926         -34         -8.0             34   \n",
       "6           4    -3.576739         -28         -4.0             28   \n",
       "7           4    -2.871942         -32        -10.0             32   \n",
       "8           4     -2.09553         -19         -7.0             19   \n",
       "9           6    -1.384488         -22         -6.0             22   \n",
       "10          5    -0.480679          -7         -2.0              7   \n",
       "11         10    -0.929582         -11         -1.0             11   \n",
       "12          6     0.482215         -10         -3.0             10   \n",
       "13          6      0.24929         -15         -9.0             15   \n",
       "14          9     -7.23277         -14         -6.0             14   \n",
       "15          7    -4.705086         -12         -3.0             12   \n",
       "16          4     -3.01283         -21         -7.0             21   \n",
       "17          7    13.235325         -18         -3.0             18   \n",
       "18         15     2.850178          -4          3.0              4   \n",
       "19         11    10.509092           0          0.0              0   \n",
       "20         11     2.867907          -4         -1.0              4   \n",
       "21          5     1.231611         -13         -3.0             13   \n",
       "\n",
       "   puqe_reduction  gdf15_percent_change  \n",
       "0               7            -23.392997  \n",
       "1               2              6.312710  \n",
       "2               5             -6.294906  \n",
       "3               3             81.413157  \n",
       "4               2            -24.625249  \n",
       "5               8            -22.777590  \n",
       "6               4            -17.658219  \n",
       "7              10            -14.805256  \n",
       "8               7            -16.545963  \n",
       "9               6            -11.715551  \n",
       "10              2             -5.135536  \n",
       "11              1             -7.570805  \n",
       "12              3              4.134665  \n",
       "13              9              1.736185  \n",
       "14              6            -39.911119  \n",
       "15              3            -26.518274  \n",
       "16              7             -8.413209  \n",
       "17              3            188.283317  \n",
       "18             -3             27.557956  \n",
       "19              0             44.901249  \n",
       "20              1             13.275309  \n",
       "21              3              4.131519  "
      ]
     },
     "execution_count": 15,
     "metadata": {},
     "output_type": "execute_result"
    }
   ],
   "source": [
    "data"
   ]
  },
  {
   "cell_type": "code",
   "execution_count": 24,
   "id": "5a1e42f0-9f7d-4688-afa2-9960bd2fb124",
   "metadata": {},
   "outputs": [],
   "source": [
    "# Update column data types\n",
    "data_update = data.astype({'gdf15_before':float, 'gdf15_after':float, 'help_before':float, 'help_after':float, 'puqe_before':float,\n",
    "                    'puqe_after':float, 'gdf15_change':float, 'help_change':float, 'puqe_change':float, 'help_reduction':float, \n",
    "                     'puqe_reduction':float, 'gdf15_percent_change':float})\n"
   ]
  },
  {
   "cell_type": "code",
   "execution_count": 25,
   "id": "f9b09126-1d5a-4264-8f0a-a63afba76c1c",
   "metadata": {},
   "outputs": [
    {
     "data": {
      "text/plain": [
       "ID                       object\n",
       "group                    object\n",
       "gdf15_before            float64\n",
       "gdf15_after             float64\n",
       "help_before             float64\n",
       "help_after              float64\n",
       "puqe_before             float64\n",
       "puqe_after              float64\n",
       "gdf15_change            float64\n",
       "help_change             float64\n",
       "puqe_change             float64\n",
       "help_reduction          float64\n",
       "puqe_reduction          float64\n",
       "gdf15_percent_change    float64\n",
       "dtype: object"
      ]
     },
     "execution_count": 25,
     "metadata": {},
     "output_type": "execute_result"
    }
   ],
   "source": [
    "data_update.dtypes"
   ]
  },
  {
   "cell_type": "markdown",
   "id": "8942041f-06ae-4940-a38c-f6198ec5b7ed",
   "metadata": {},
   "source": [
    "## Boxplots and Statistical Significance Tests"
   ]
  },
  {
   "cell_type": "code",
   "execution_count": 32,
   "id": "2cadcb5a-c60f-4384-9d84-97358add3c48",
   "metadata": {},
   "outputs": [],
   "source": [
    "# Function for boxplots to analyze various attribute distribution amongst those with and without Steriod\n",
    "def dist_boxplot(df, col):\n",
    "    sns.boxplot(data=df, x='group', y=col, hue='group', legend=False)\n",
    "    plt.title(col + \" by treatment\")\n",
    "\n",
    "# Function to test for Statistical Significance in Difference between Sample Means\n",
    "def perform_statistical_tests(data, group_column, value_column, group1, group2):\n",
    "    \"\"\"\n",
    "    Perform statistical tests (normality tests and t-tests or Mann-Whitney U tests) between two groups.\n",
    "\n",
    "    Parameters:\n",
    "    - data: DataFrame containing the data.\n",
    "    - group_column: Column name indicating the group (e.g., 'Race').\n",
    "    - value_column: The column containing the values to test (e.g., 'IGFBP7').\n",
    "    - group1: The first group to compare (e.g., 'black').\n",
    "    - group2: The second group to compare (e.g., 'white').\n",
    "    \"\"\"\n",
    "    # Filter and remove NaN values for both groups\n",
    "    group1_data = data[data[group_column] == group1][value_column].dropna()\n",
    "    group2_data = data[data[group_column] == group2][value_column].dropna()\n",
    "\n",
    "    # Check the sample size\n",
    "    if len(group1_data) < 3 or len(group2_data) < 3:\n",
    "        print(f\"Not enough data for statistical testing. {group1}: {len(group1_data)}, {group2}: {len(group2_data)}\")\n",
    "        return\n",
    "    \n",
    "    # Perform Shapiro-Wilk normality tests\n",
    "    shapiro_group1 = stats.shapiro(group1_data)\n",
    "    shapiro_group2 = stats.shapiro(group2_data)\n",
    "    \n",
    "    print(f\"Shapiro-Wilk test for {group1} (n={len(group1_data)}): p-value = {shapiro_group1.pvalue}\")\n",
    "    print(f\"Shapiro-Wilk test for {group2} (n={len(group2_data)}): p-value = {shapiro_group2.pvalue}\")\n",
    "    \n",
    "    # Check if both groups are normally distributed\n",
    "    if shapiro_group1.pvalue >= 0.05 and shapiro_group2.pvalue >= 0.05:\n",
    "        print(\"Both groups are normally distributed. Performing t-tests.\")\n",
    "        \n",
    "        # Perform Independent t-test (assuming equal variances)\n",
    "        t_stat, p_value = stats.ttest_ind(group1_data, group2_data)\n",
    "        print(f\"Independent t-test result (n={len(group1_data)} vs. n={len(group2_data)}): t-statistic = {t_stat}, p-value = {p_value}\")\n",
    "        \n",
    "        # Perform Welch's t-test if unequal variances are suspected\n",
    "        t_stat_welch, p_value_welch = stats.ttest_ind(group1_data, group2_data, equal_var=False)\n",
    "        print(f\"Welch's t-test result (n={len(group1_data)} vs. n={len(group2_data)}): t-statistic = {t_stat_welch}, p-value = {p_value_welch}\")\n",
    "    \n",
    "    else:\n",
    "        print(\"At least one group is not normally distributed. Performing Mann-Whitney U test.\")\n",
    "        \n",
    "        # Perform Mann-Whitney U test (non-parametric test)\n",
    "        u_stat, p_value_mwu = stats.mannwhitneyu(group1_data, group2_data, alternative='two-sided')\n",
    "        print(f\"Mann-Whitney U test result (n={len(group1_data)} vs. n={len(group2_data)}): U-statistic = {u_stat}, p-value = {p_value_mwu}\")"
   ]
  },
  {
   "cell_type": "code",
   "execution_count": 33,
   "id": "f26aa80b-c507-4f8c-a60c-31e68f70f99f",
   "metadata": {},
   "outputs": [
    {
     "data": {
      "image/png": "[encoded data removed]",
      "text/plain": [
       "<Figure size 640x480 with 1 Axes>"
      ]
     },
     "metadata": {},
     "output_type": "display_data"
    }
   ],
   "source": [
    "# GDF15 Before\n",
    "dist_boxplot(data_update, 'gdf15_before')"
   ]
  },
  {
   "cell_type": "code",
   "execution_count": 34,
   "id": "589eaad5-9cd3-4d48-824e-55dc1e1ff73e",
   "metadata": {},
   "outputs": [
    {
     "name": "stdout",
     "output_type": "stream",
     "text": [
      "Shapiro-Wilk test for Steroid (n=11): p-value = 0.14584112788487083\n",
      "Shapiro-Wilk test for Control (n=11): p-value = 0.563749602961911\n",
      "Both groups are normally distributed. Performing t-tests.\n",
      "Independent t-test result (n=11 vs. n=11): t-statistic = -1.2540068462574645, p-value = 0.22429925452130164\n",
      "Welch's t-test result (n=11 vs. n=11): t-statistic = -1.2540068462574645, p-value = 0.2260070517631878\n"
     ]
    }
   ],
   "source": [
    "perform_statistical_tests(data_update, 'group', 'gdf15_before', 'Steroid', 'Control')"
   ]
  },
  {
   "cell_type": "code",
   "execution_count": 39,
   "id": "8bbf725a-b66b-4283-8e8a-5170c2b8cb97",
   "metadata": {},
   "outputs": [
    {
     "data": {
      "image/png": "[encoded data removed]",
      "text/plain": [
       "<Figure size 640x480 with 1 Axes>"
      ]
     },
     "metadata": {},
     "output_type": "display_data"
    }
   ],
   "source": [
    "# GDF15 After\n",
    "dist_boxplot(data_update, 'gdf15_after')"
   ]
  },
  {
   "cell_type": "code",
   "execution_count": 40,
   "id": "d520931d-0d2e-48da-820d-a4c76ce213dd",
   "metadata": {},
   "outputs": [
    {
     "name": "stdout",
     "output_type": "stream",
     "text": [
      "Shapiro-Wilk test for Steroid (n=11): p-value = 0.19874159077805015\n",
      "Shapiro-Wilk test for Control (n=11): p-value = 0.02189256856196692\n",
      "At least one group is not normally distributed. Performing Mann-Whitney U test.\n",
      "Mann-Whitney U test result (n=11 vs. n=11): U-statistic = 29.0, p-value = 0.04178899680298453\n"
     ]
    }
   ],
   "source": [
    "perform_statistical_tests(data_update, 'group', 'gdf15_after', 'Steroid', 'Control')"
   ]
  },
  {
   "cell_type": "code",
   "execution_count": 41,
   "id": "83a7577b-9b76-45d5-abf8-7b4bdcbd7952",
   "metadata": {},
   "outputs": [],
   "source": [
    "# Function to test for Statistical Significance in Difference between Sample Means\n",
    "def perform_t_test(data, group_column, value_column, group1, group2):\n",
    "    \"\"\"\n",
    "    Perform statistical tests (normality tests and t-tests or Mann-Whitney U tests) between two groups.\n",
    "\n",
    "    Parameters:\n",
    "    - data: DataFrame containing the data.\n",
    "    - group_column: Column name indicating the group (e.g., 'Race').\n",
    "    - value_column: The column containing the values to test (e.g., 'IGFBP7').\n",
    "    - group1: The first group to compare (e.g., 'black').\n",
    "    - group2: The second group to compare (e.g., 'white').\n",
    "    \"\"\"\n",
    "    # Filter and remove NaN values for both groups\n",
    "    group1_data = data[data[group_column] == group1][value_column].dropna()\n",
    "    group2_data = data[data[group_column] == group2][value_column].dropna()\n",
    "\n",
    "    # Check the sample size\n",
    "    if len(group1_data) < 3 or len(group2_data) < 3:\n",
    "        print(f\"Not enough data for statistical testing. {group1}: {len(group1_data)}, {group2}: {len(group2_data)}\")\n",
    "        return   \n",
    "        \n",
    "    # Perform Independent t-test (assuming equal variances)\n",
    "    t_stat, p_value = stats.ttest_ind(group1_data, group2_data)\n",
    "    print(f\"Independent t-test result (n={len(group1_data)} vs. n={len(group2_data)}): t-statistic = {t_stat}, p-value = {p_value}\")\n",
    "   "
   ]
  },
  {
   "cell_type": "code",
   "execution_count": 38,
   "id": "9192de17-8c41-4c44-9056-4c6fd3cd2808",
   "metadata": {},
   "outputs": [
    {
     "name": "stdout",
     "output_type": "stream",
     "text": [
      "Independent t-test result (n=11 vs. n=11): t-statistic = -1.989625554297901, p-value = 0.06048177525960365\n"
     ]
    }
   ],
   "source": [
    "perform_t_test(data_update, 'group', 'gdf15_after', 'Steroid', 'Control')"
   ]
  },
  {
   "cell_type": "code",
   "execution_count": 42,
   "id": "182b6512-9f24-469e-a6ae-ebcf4ac6e09f",
   "metadata": {},
   "outputs": [
    {
     "data": {
      "image/png": "[encoded data removed]",
      "text/plain": [
       "<Figure size 640x480 with 1 Axes>"
      ]
     },
     "metadata": {},
     "output_type": "display_data"
    }
   ],
   "source": [
    "# HELP Before\n",
    "dist_boxplot(data_update, 'help_before')"
   ]
  },
  {
   "cell_type": "code",
   "execution_count": 43,
   "id": "5de5eff7-bc83-4e4b-bff0-0ccd23873789",
   "metadata": {},
   "outputs": [
    {
     "name": "stdout",
     "output_type": "stream",
     "text": [
      "Shapiro-Wilk test for Steroid (n=11): p-value = 0.4697594148248439\n",
      "Shapiro-Wilk test for Control (n=11): p-value = 0.09942919916614272\n",
      "Both groups are normally distributed. Performing t-tests.\n",
      "Independent t-test result (n=11 vs. n=11): t-statistic = 1.1953810004112362, p-value = 0.24592031851207333\n",
      "Welch's t-test result (n=11 vs. n=11): t-statistic = 1.1953810004112362, p-value = 0.24727665370254676\n"
     ]
    }
   ],
   "source": [
    "perform_statistical_tests(data_update, 'group', 'help_before', 'Steroid', 'Control')"
   ]
  },
  {
   "cell_type": "code",
   "execution_count": 44,
   "id": "f1e5dfef-ba3d-45bb-ac4e-ca34ae28d01e",
   "metadata": {},
   "outputs": [
    {
     "data": {
      "image/png": "[encoded data removed]",
      "text/plain": [
       "<Figure size 640x480 with 1 Axes>"
      ]
     },
     "metadata": {},
     "output_type": "display_data"
    }
   ],
   "source": [
    "# HELP After\n",
    "dist_boxplot(data_update, 'help_after') "
   ]
  },
  {
   "cell_type": "code",
   "execution_count": 45,
   "id": "7a705a9d-87d7-481e-a1f9-55d6ef710cc0",
   "metadata": {},
   "outputs": [
    {
     "name": "stdout",
     "output_type": "stream",
     "text": [
      "Shapiro-Wilk test for Steroid (n=11): p-value = 0.2742526570383335\n",
      "Shapiro-Wilk test for Control (n=11): p-value = 0.15188862750054813\n",
      "Both groups are normally distributed. Performing t-tests.\n",
      "Independent t-test result (n=11 vs. n=11): t-statistic = -1.152523909604337, p-value = 0.26269590490412376\n",
      "Welch's t-test result (n=11 vs. n=11): t-statistic = -1.152523909604337, p-value = 0.2634302272307022\n"
     ]
    }
   ],
   "source": [
    "perform_statistical_tests(data_update, 'group', 'help_after', 'Steroid', 'Control')"
   ]
  },
  {
   "cell_type": "code",
   "execution_count": 46,
   "id": "041d07a1-17db-4e42-849c-a2a687f281d3",
   "metadata": {},
   "outputs": [
    {
     "data": {
      "image/png": "[encoded data removed]",
      "text/plain": [
       "<Figure size 640x480 with 1 Axes>"
      ]
     },
     "metadata": {},
     "output_type": "display_data"
    }
   ],
   "source": [
    "# PUQE Before\n",
    "dist_boxplot(data_update, 'puqe_before') "
   ]
  },
  {
   "cell_type": "code",
   "execution_count": 47,
   "id": "49ba43d6-5000-49c3-b4fc-f4591e1d3def",
   "metadata": {},
   "outputs": [
    {
     "name": "stdout",
     "output_type": "stream",
     "text": [
      "Shapiro-Wilk test for Steroid (n=11): p-value = 0.4370161633950503\n",
      "Shapiro-Wilk test for Control (n=11): p-value = 0.2960892713267498\n",
      "Both groups are normally distributed. Performing t-tests.\n",
      "Independent t-test result (n=11 vs. n=11): t-statistic = 0.43453624965687265, p-value = 0.6685512837831329\n",
      "Welch's t-test result (n=11 vs. n=11): t-statistic = 0.43453624965687265, p-value = 0.6687347035869255\n"
     ]
    }
   ],
   "source": [
    "perform_statistical_tests(data_update, 'group', 'puqe_before', 'Steroid', 'Control')"
   ]
  },
  {
   "cell_type": "code",
   "execution_count": 48,
   "id": "dea78034-534e-43ae-a8ff-45ca36a826c0",
   "metadata": {},
   "outputs": [
    {
     "data": {
      "image/png": "[encoded data removed]",
      "text/plain": [
       "<Figure size 640x480 with 1 Axes>"
      ]
     },
     "metadata": {},
     "output_type": "display_data"
    }
   ],
   "source": [
    "# PUQE After\n",
    "dist_boxplot(data_update, 'puqe_after') "
   ]
  },
  {
   "cell_type": "code",
   "execution_count": 49,
   "id": "87ae058f-2e9b-4c45-97e8-6e49c38c6f59",
   "metadata": {},
   "outputs": [
    {
     "name": "stdout",
     "output_type": "stream",
     "text": [
      "Shapiro-Wilk test for Steroid (n=11): p-value = 0.30144320040462214\n",
      "Shapiro-Wilk test for Control (n=11): p-value = 0.5237682126377838\n",
      "Both groups are normally distributed. Performing t-tests.\n",
      "Independent t-test result (n=11 vs. n=11): t-statistic = -1.229880092536182, p-value = 0.2330137295841764\n",
      "Welch's t-test result (n=11 vs. n=11): t-statistic = -1.229880092536182, p-value = 0.2331291750466861\n"
     ]
    }
   ],
   "source": [
    "perform_statistical_tests(data_update, 'group', 'puqe_after', 'Steroid', 'Control')"
   ]
  },
  {
   "cell_type": "code",
   "execution_count": 54,
   "id": "31199f59-d9ca-46ea-a2f5-1da220c09e70",
   "metadata": {},
   "outputs": [
    {
     "data": {
      "image/png": "[encoded data removed]",
      "text/plain": [
       "<Figure size 640x480 with 1 Axes>"
      ]
     },
     "metadata": {},
     "output_type": "display_data"
    }
   ],
   "source": [
    "# GDF15 Change\n",
    "dist_boxplot(data_update, 'gdf15_change') "
   ]
  },
  {
   "cell_type": "code",
   "execution_count": 52,
   "id": "5eb7a45e-4f09-4f4f-bb50-9493f0d96197",
   "metadata": {},
   "outputs": [
    {
     "name": "stdout",
     "output_type": "stream",
     "text": [
      "Shapiro-Wilk test for Steroid (n=11): p-value = 0.009186530312759173\n",
      "Shapiro-Wilk test for Control (n=11): p-value = 0.40175209331412476\n",
      "At least one group is not normally distributed. Performing Mann-Whitney U test.\n",
      "Mann-Whitney U test result (n=11 vs. n=11): U-statistic = 42.0, p-value = 0.23721752775378102\n"
     ]
    }
   ],
   "source": [
    "perform_statistical_tests(data_update, 'group', 'gdf15_change', 'Steroid', 'Control')"
   ]
  },
  {
   "cell_type": "code",
   "execution_count": 53,
   "id": "cb84c81f-8fb7-461a-ae64-71da29d5d78c",
   "metadata": {},
   "outputs": [
    {
     "name": "stdout",
     "output_type": "stream",
     "text": [
      "Independent t-test result (n=11 vs. n=11): t-statistic = -1.2696682935954942, p-value = 0.21877798550867633\n"
     ]
    }
   ],
   "source": [
    "perform_t_test(data_update, 'group', 'gdf15_change', 'Steroid', 'Control')"
   ]
  },
  {
   "cell_type": "code",
   "execution_count": 64,
   "id": "69f02671-9d00-4127-9d31-de60d0144183",
   "metadata": {},
   "outputs": [
    {
     "data": {
      "image/png": "[encoded data removed]",
      "text/plain": [
       "<Figure size 640x480 with 1 Axes>"
      ]
     },
     "metadata": {},
     "output_type": "display_data"
    }
   ],
   "source": [
    "# HELP Change\n",
    "dist_boxplot(data_update, 'help_change') "
   ]
  },
  {
   "cell_type": "code",
   "execution_count": 65,
   "id": "9fe1083e-4199-46d4-a1e8-1c5e2a3b75a6",
   "metadata": {},
   "outputs": [
    {
     "name": "stdout",
     "output_type": "stream",
     "text": [
      "Shapiro-Wilk test for Steroid (n=11): p-value = 0.581434555322151\n",
      "Shapiro-Wilk test for Control (n=11): p-value = 0.8091791193681913\n",
      "Both groups are normally distributed. Performing t-tests.\n",
      "Independent t-test result (n=11 vs. n=11): t-statistic = -2.0502679825817562, p-value = 0.05367650813596159\n",
      "Welch's t-test result (n=11 vs. n=11): t-statistic = -2.0502679825817562, p-value = 0.05726909246675122\n"
     ]
    }
   ],
   "source": [
    "perform_statistical_tests(data_update, 'group', 'help_change', 'Steroid', 'Control')"
   ]
  },
  {
   "cell_type": "code",
   "execution_count": 67,
   "id": "f8767a11-9b4e-456d-8a70-00e744bfea21",
   "metadata": {},
   "outputs": [
    {
     "data": {
      "image/png": "[encoded data removed]",
      "text/plain": [
       "<Figure size 640x480 with 1 Axes>"
      ]
     },
     "metadata": {},
     "output_type": "display_data"
    }
   ],
   "source": [
    "# PUQE Change\n",
    "dist_boxplot(data_update, 'puqe_change') "
   ]
  },
  {
   "cell_type": "code",
   "execution_count": 68,
   "id": "52210ac4-021a-49da-81c5-2293c9721126",
   "metadata": {},
   "outputs": [
    {
     "name": "stdout",
     "output_type": "stream",
     "text": [
      "Shapiro-Wilk test for Steroid (n=11): p-value = 0.3382294528445681\n",
      "Shapiro-Wilk test for Control (n=11): p-value = 0.7626719947485254\n",
      "Both groups are normally distributed. Performing t-tests.\n",
      "Independent t-test result (n=11 vs. n=11): t-statistic = -1.5955303305205966, p-value = 0.12627470013414477\n",
      "Welch's t-test result (n=11 vs. n=11): t-statistic = -1.5955303305205966, p-value = 0.12694034104474855\n"
     ]
    }
   ],
   "source": [
    "perform_statistical_tests(data_update, 'group', 'puqe_change', 'Steroid', 'Control')"
   ]
  },
  {
   "cell_type": "code",
   "execution_count": 69,
   "id": "e24c78ad-20d5-41ee-808e-779b62141699",
   "metadata": {},
   "outputs": [
    {
     "data": {
      "image/png": "[encoded data removed]",
      "text/plain": [
       "<Figure size 640x480 with 1 Axes>"
      ]
     },
     "metadata": {},
     "output_type": "display_data"
    }
   ],
   "source": [
    "# GDF15 Percent Change\n",
    "dist_boxplot(data_update, 'gdf15_percent_change') "
   ]
  },
  {
   "cell_type": "code",
   "execution_count": 70,
   "id": "8ad39580-980c-43e8-9eaa-0b2c0c346402",
   "metadata": {},
   "outputs": [
    {
     "name": "stdout",
     "output_type": "stream",
     "text": [
      "Shapiro-Wilk test for Steroid (n=11): p-value = 4.945807184749589e-05\n",
      "Shapiro-Wilk test for Control (n=11): p-value = 0.0006811146463075098\n",
      "At least one group is not normally distributed. Performing Mann-Whitney U test.\n",
      "Mann-Whitney U test result (n=11 vs. n=11): U-statistic = 39.0, p-value = 0.16790547565263503\n"
     ]
    }
   ],
   "source": [
    "perform_statistical_tests(data_update, 'group', 'gdf15_percent_change', 'Steroid', 'Control')"
   ]
  }
 ],
 "metadata": {
  "kernelspec": {
   "display_name": "Python 3 (ipykernel)",
   "language": "python",
   "name": "python3"
  },
  "language_info": {
   "codemirror_mode": {
    "name": "ipython",
    "version": 3
   },
   "file_extension": ".py",
   "mimetype": "text/x-python",
   "name": "python",
   "nbconvert_exporter": "python",
   "pygments_lexer": "ipython3",
   "version": "3.13.3"
  }
 },
 "nbformat": 4,
 "nbformat_minor": 5
}
